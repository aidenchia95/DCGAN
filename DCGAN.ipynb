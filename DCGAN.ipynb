{
 "cells": [
  {
   "cell_type": "code",
   "execution_count": 1,
   "metadata": {},
   "outputs": [
    {
     "name": "stderr",
     "output_type": "stream",
     "text": [
      "Using TensorFlow backend.\n"
     ]
    }
   ],
   "source": [
    "from keras.datasets import mnist\n",
    "from keras.models import Model, Sequential\n",
    "from keras.layers import *\n",
    "from keras.optimizers import Adam\n",
    "from tqdm import tqdm\n",
    "from keras.layers.advanced_activations import LeakyReLU\n",
    "import numpy as np\n",
    "import matplotlib.pyplot as plt\n",
    "%matplotlib inline"
   ]
  },
  {
   "cell_type": "markdown",
   "metadata": {},
   "source": [
    "# Load and Visualize Data"
   ]
  },
  {
   "cell_type": "code",
   "execution_count": 2,
   "metadata": {},
   "outputs": [
    {
     "data": {
      "text/plain": [
       "(60000, 28, 28)"
      ]
     },
     "execution_count": 2,
     "metadata": {},
     "output_type": "execute_result"
    }
   ],
   "source": [
    "(X_train, _), (_, _) = mnist.load_data()\n",
    "X_train.shape"
   ]
  },
  {
   "cell_type": "code",
   "execution_count": 3,
   "metadata": {},
   "outputs": [
    {
     "data": {
      "text/plain": [
       "(60000, 28, 28, 1)"
      ]
     },
     "execution_count": 3,
     "metadata": {},
     "output_type": "execute_result"
    }
   ],
   "source": [
    "X_train = X_train.reshape(X_train.shape[0], 28, 28, 1)\n",
    "X_train = (X_train - 127.5) / 127.5\n",
    "X_train.shape"
   ]
  },
  {
   "cell_type": "code",
   "execution_count": 4,
   "metadata": {},
   "outputs": [
    {
     "data": {
      "text/plain": [
       "(-0.5, 27.5, 27.5, -0.5)"
      ]
     },
     "execution_count": 4,
     "metadata": {},
     "output_type": "execute_result"
    },
    {
     "data": {
      "image/png": "[encoded data removed]",
      "text/plain": [
       "<Figure size 360x360 with 1 Axes>"
      ]
     },
     "metadata": {},
     "output_type": "display_data"
    }
   ],
   "source": [
    "img = X_train[np.random.randint(0,X_train.shape[0]),:,:,0]\n",
    "plt.figure(figsize=(5,5))\n",
    "plt.imshow(img, cmap='gray')\n",
    "plt.axis('off')"
   ]
  },
  {
   "cell_type": "markdown",
   "metadata": {},
   "source": [
    "# Build Generator"
   ]
  },
  {
   "cell_type": "code",
   "execution_count": 5,
   "metadata": {},
   "outputs": [],
   "source": [
    "generator = Sequential([\n",
    "        Dense(128*7*7, input_dim=100),\n",
    "        LeakyReLU(0.2),\n",
    "        BatchNormalization(),\n",
    "        Reshape((7,7,128)),\n",
    "        UpSampling2D(),\n",
    "        Conv2D(64, 5, padding='same'),\n",
    "        LeakyReLU(0.2),\n",
    "        BatchNormalization(),\n",
    "        UpSampling2D(),\n",
    "        Conv2D(1, 5, padding='same', activation='tanh')\n",
    "    ])"
   ]
  },
  {
   "cell_type": "code",
   "execution_count": 6,
   "metadata": {},
   "outputs": [
    {
     "name": "stdout",
     "output_type": "stream",
     "text": [
      "_________________________________________________________________\n",
      "Layer (type)                 Output Shape              Param #   \n",
      "=================================================================\n",
      "dense_1 (Dense)              (None, 6272)              633472    \n",
      "_________________________________________________________________\n",
      "leaky_re_lu_1 (LeakyReLU)    (None, 6272)              0         \n",
      "_________________________________________________________________\n",
      "batch_normalization_1 (Batch (None, 6272)              25088     \n",
      "_________________________________________________________________\n",
      "reshape_1 (Reshape)          (None, 7, 7, 128)         0         \n",
      "_________________________________________________________________\n",
      "up_sampling2d_1 (UpSampling2 (None, 14, 14, 128)       0         \n",
      "_________________________________________________________________\n",
      "conv2d_1 (Conv2D)            (None, 14, 14, 64)        204864    \n",
      "_________________________________________________________________\n",
      "leaky_re_lu_2 (LeakyReLU)    (None, 14, 14, 64)        0         \n",
      "_________________________________________________________________\n",
      "batch_normalization_2 (Batch (None, 14, 14, 64)        256       \n",
      "_________________________________________________________________\n",
      "up_sampling2d_2 (UpSampling2 (None, 28, 28, 64)        0         \n",
      "_________________________________________________________________\n",
      "conv2d_2 (Conv2D)            (None, 28, 28, 1)         1601      \n",
      "=================================================================\n",
      "Total params: 865,281\n",
      "Trainable params: 852,609\n",
      "Non-trainable params: 12,672\n",
      "_________________________________________________________________\n"
     ]
    }
   ],
   "source": [
    "generator.summary()"
   ]
  },
  {
   "cell_type": "markdown",
   "metadata": {},
   "source": [
    "# Build Discriminator"
   ]
  },
  {
   "cell_type": "code",
   "execution_count": 7,
   "metadata": {},
   "outputs": [],
   "source": [
    "discriminator = Sequential([\n",
    "        Conv2D(64, 5, strides=(2,2), input_shape=(28,28,1), padding='same'),\n",
    "        LeakyReLU(0.2),\n",
    "        Dropout(0.3),\n",
    "        Conv2D(128, 5, strides=(2,2), padding='same'),\n",
    "        LeakyReLU(0.2),\n",
    "        Dropout(0.3),\n",
    "        Flatten(),\n",
    "        Dense(1, activation='sigmoid')\n",
    "    ])"
   ]
  },
  {
   "cell_type": "code",
   "execution_count": 8,
   "metadata": {},
   "outputs": [
    {
     "name": "stdout",
     "output_type": "stream",
     "text": [
      "_________________________________________________________________\n",
      "Layer (type)                 Output Shape              Param #   \n",
      "=================================================================\n",
      "conv2d_3 (Conv2D)            (None, 14, 14, 64)        1664      \n",
      "_________________________________________________________________\n",
      "leaky_re_lu_3 (LeakyReLU)    (None, 14, 14, 64)        0         \n",
      "_________________________________________________________________\n",
      "dropout_1 (Dropout)          (None, 14, 14, 64)        0         \n",
      "_________________________________________________________________\n",
      "conv2d_4 (Conv2D)            (None, 7, 7, 128)         204928    \n",
      "_________________________________________________________________\n",
      "leaky_re_lu_4 (LeakyReLU)    (None, 7, 7, 128)         0         \n",
      "_________________________________________________________________\n",
      "dropout_2 (Dropout)          (None, 7, 7, 128)         0         \n",
      "_________________________________________________________________\n",
      "flatten_1 (Flatten)          (None, 6272)              0         \n",
      "_________________________________________________________________\n",
      "dense_2 (Dense)              (None, 1)                 6273      \n",
      "=================================================================\n",
      "Total params: 212,865\n",
      "Trainable params: 212,865\n",
      "Non-trainable params: 0\n",
      "_________________________________________________________________\n"
     ]
    }
   ],
   "source": [
    "discriminator.summary()"
   ]
  },
  {
   "cell_type": "code",
   "execution_count": 9,
   "metadata": {},
   "outputs": [],
   "source": [
    "generator.compile(loss='binary_crossentropy', optimizer=Adam(lr=0.0002, beta_1=0.5))"
   ]
  },
  {
   "cell_type": "code",
   "execution_count": 10,
   "metadata": {},
   "outputs": [],
   "source": [
    "discriminator.compile(loss='binary_crossentropy', optimizer=Adam(lr=0.0002, beta_1=0.5))"
   ]
  },
  {
   "cell_type": "markdown",
   "metadata": {},
   "source": [
    "# Build GAN"
   ]
  },
  {
   "cell_type": "code",
   "execution_count": 11,
   "metadata": {},
   "outputs": [],
   "source": [
    "discriminator.trainable = False\n",
    "ganInput = Input(shape=(100,))\n",
    "# getting the output of the generator\n",
    "# and then feeding it to the discriminator\n",
    "# new model = D(G(input))\n",
    "x = generator(ganInput)\n",
    "ganOutput = discriminator(x)\n",
    "gan = Model(inputs=ganInput, outputs=ganOutput)\n",
    "gan.compile(loss='binary_crossentropy', optimizer=Adam(lr=0.0002, beta_1=0.5))"
   ]
  },
  {
   "cell_type": "code",
   "execution_count": 12,
   "metadata": {},
   "outputs": [
    {
     "name": "stdout",
     "output_type": "stream",
     "text": [
      "_________________________________________________________________\n",
      "Layer (type)                 Output Shape              Param #   \n",
      "=================================================================\n",
      "input_1 (InputLayer)         (None, 100)               0         \n",
      "_________________________________________________________________\n",
      "sequential_1 (Sequential)    (None, 28, 28, 1)         865281    \n",
      "_________________________________________________________________\n",
      "sequential_2 (Sequential)    (None, 1)                 212865    \n",
      "=================================================================\n",
      "Total params: 1,078,146\n",
      "Trainable params: 852,609\n",
      "Non-trainable params: 225,537\n",
      "_________________________________________________________________\n"
     ]
    }
   ],
   "source": [
    "gan.summary()"
   ]
  },
  {
   "cell_type": "markdown",
   "metadata": {},
   "source": [
    "# Train the Model"
   ]
  },
  {
   "cell_type": "code",
   "execution_count": 13,
   "metadata": {},
   "outputs": [],
   "source": [
    "def train(epoch=10, batch_size=128):\n",
    "    batch_count = X_train.shape[0] // batch_size\n",
    "    \n",
    "    for i in range(epoch):\n",
    "        for j in tqdm(range(batch_count)):\n",
    "            # Input for the generator\n",
    "            noise_input = np.random.rand(batch_size, 100)\n",
    "            \n",
    "            # getting random images from X_train of size=batch_size \n",
    "            # these are the real images that will be fed to the discriminator\n",
    "            image_batch = X_train[np.random.randint(0, X_train.shape[0], size=batch_size)]\n",
    "            \n",
    "            # these are the predicted images from the generator\n",
    "            predictions = generator.predict(noise_input, batch_size=batch_size)\n",
    "            \n",
    "            # the discriminator takes in the real images and the generated images\n",
    "            X = np.concatenate([predictions, image_batch])\n",
    "            \n",
    "            # labels for the discriminator\n",
    "            y_discriminator = [0]*batch_size + [1]*batch_size\n",
    "            \n",
    "            # Let's train the discriminator\n",
    "            discriminator.trainable = True\n",
    "            discriminator.train_on_batch(X, y_discriminator)\n",
    "            \n",
    "            # Let's train the generator\n",
    "            noise_input = np.random.rand(batch_size, 100)\n",
    "            y_generator = [1]*batch_size\n",
    "            discriminator.trainable = False\n",
    "            gan.train_on_batch(noise_input, y_generator)"
   ]
  },
  {
   "cell_type": "code",
   "execution_count": 14,
   "metadata": {},
   "outputs": [
    {
     "name": "stderr",
     "output_type": "stream",
     "text": [
      "100%|████████████████████████████████████████████████████████████████████████████████| 468/468 [00:23<00:00, 19.81it/s]\n",
      "100%|████████████████████████████████████████████████████████████████████████████████| 468/468 [00:19<00:00, 24.33it/s]\n",
      "100%|████████████████████████████████████████████████████████████████████████████████| 468/468 [00:19<00:00, 24.32it/s]\n",
      "100%|████████████████████████████████████████████████████████████████████████████████| 468/468 [00:19<00:00, 24.26it/s]\n",
      "100%|████████████████████████████████████████████████████████████████████████████████| 468/468 [00:19<00:00, 24.28it/s]\n",
      "100%|████████████████████████████████████████████████████████████████████████████████| 468/468 [00:19<00:00, 24.26it/s]\n",
      "100%|████████████████████████████████████████████████████████████████████████████████| 468/468 [00:19<00:00, 24.18it/s]\n",
      "100%|████████████████████████████████████████████████████████████████████████████████| 468/468 [00:19<00:00, 24.20it/s]\n",
      "100%|████████████████████████████████████████████████████████████████████████████████| 468/468 [00:19<00:00, 24.21it/s]\n",
      "100%|████████████████████████████████████████████████████████████████████████████████| 468/468 [00:19<00:00, 24.16it/s]\n",
      "100%|████████████████████████████████████████████████████████████████████████████████| 468/468 [00:19<00:00, 24.15it/s]\n",
      "100%|████████████████████████████████████████████████████████████████████████████████| 468/468 [00:19<00:00, 24.16it/s]\n",
      "100%|████████████████████████████████████████████████████████████████████████████████| 468/468 [00:19<00:00, 24.15it/s]\n",
      "100%|████████████████████████████████████████████████████████████████████████████████| 468/468 [00:19<00:00, 24.11it/s]\n",
      "100%|████████████████████████████████████████████████████████████████████████████████| 468/468 [00:19<00:00, 24.11it/s]\n",
      "100%|████████████████████████████████████████████████████████████████████████████████| 468/468 [00:19<00:00, 24.12it/s]\n",
      "100%|████████████████████████████████████████████████████████████████████████████████| 468/468 [00:19<00:00, 24.13it/s]\n",
      "100%|████████████████████████████████████████████████████████████████████████████████| 468/468 [00:19<00:00, 24.12it/s]\n",
      "100%|████████████████████████████████████████████████████████████████████████████████| 468/468 [00:19<00:00, 24.13it/s]\n",
      "100%|████████████████████████████████████████████████████████████████████████████████| 468/468 [00:19<00:00, 24.07it/s]\n",
      "100%|████████████████████████████████████████████████████████████████████████████████| 468/468 [00:19<00:00, 24.05it/s]\n",
      "100%|████████████████████████████████████████████████████████████████████████████████| 468/468 [00:19<00:00, 24.12it/s]\n",
      "100%|████████████████████████████████████████████████████████████████████████████████| 468/468 [00:19<00:00, 24.15it/s]\n",
      "100%|████████████████████████████████████████████████████████████████████████████████| 468/468 [00:19<00:00, 24.13it/s]\n",
      "100%|████████████████████████████████████████████████████████████████████████████████| 468/468 [00:19<00:00, 24.14it/s]\n",
      "100%|████████████████████████████████████████████████████████████████████████████████| 468/468 [00:19<00:00, 24.13it/s]\n",
      "100%|████████████████████████████████████████████████████████████████████████████████| 468/468 [00:19<00:00, 24.06it/s]\n",
      "100%|████████████████████████████████████████████████████████████████████████████████| 468/468 [00:19<00:00, 24.11it/s]\n",
      "100%|████████████████████████████████████████████████████████████████████████████████| 468/468 [00:19<00:00, 24.04it/s]\n",
      "100%|████████████████████████████████████████████████████████████████████████████████| 468/468 [00:19<00:00, 24.04it/s]\n",
      "100%|████████████████████████████████████████████████████████████████████████████████| 468/468 [00:19<00:00, 24.11it/s]\n",
      "100%|████████████████████████████████████████████████████████████████████████████████| 468/468 [00:19<00:00, 24.08it/s]\n",
      "100%|████████████████████████████████████████████████████████████████████████████████| 468/468 [00:19<00:00, 24.08it/s]\n",
      "100%|████████████████████████████████████████████████████████████████████████████████| 468/468 [00:19<00:00, 24.03it/s]\n",
      "100%|████████████████████████████████████████████████████████████████████████████████| 468/468 [00:19<00:00, 24.01it/s]\n",
      "100%|████████████████████████████████████████████████████████████████████████████████| 468/468 [00:19<00:00, 24.03it/s]\n",
      "100%|████████████████████████████████████████████████████████████████████████████████| 468/468 [00:19<00:00, 24.04it/s]\n",
      "100%|████████████████████████████████████████████████████████████████████████████████| 468/468 [00:19<00:00, 24.05it/s]\n",
      "100%|████████████████████████████████████████████████████████████████████████████████| 468/468 [00:19<00:00, 24.00it/s]\n",
      "100%|████████████████████████████████████████████████████████████████████████████████| 468/468 [00:19<00:00, 24.04it/s]\n",
      "100%|████████████████████████████████████████████████████████████████████████████████| 468/468 [00:19<00:00, 24.07it/s]\n",
      "100%|████████████████████████████████████████████████████████████████████████████████| 468/468 [00:19<00:00, 24.05it/s]\n",
      "100%|████████████████████████████████████████████████████████████████████████████████| 468/468 [00:19<00:00, 24.06it/s]\n",
      "100%|████████████████████████████████████████████████████████████████████████████████| 468/468 [00:19<00:00, 24.14it/s]\n",
      "100%|████████████████████████████████████████████████████████████████████████████████| 468/468 [00:19<00:00, 24.08it/s]\n",
      "100%|████████████████████████████████████████████████████████████████████████████████| 468/468 [00:19<00:00, 24.21it/s]\n",
      "100%|████████████████████████████████████████████████████████████████████████████████| 468/468 [00:19<00:00, 24.17it/s]\n",
      "100%|████████████████████████████████████████████████████████████████████████████████| 468/468 [00:19<00:00, 24.20it/s]\n",
      "100%|████████████████████████████████████████████████████████████████████████████████| 468/468 [00:20<00:00, 22.73it/s]\n",
      "100%|████████████████████████████████████████████████████████████████████████████████| 468/468 [00:19<00:00, 24.36it/s]\n"
     ]
    }
   ],
   "source": [
    "train(50,128)"
   ]
  },
  {
   "cell_type": "code",
   "execution_count": 15,
   "metadata": {},
   "outputs": [],
   "source": [
    "generator.save_weights('gen_base.h5')\n",
    "discriminator.save_weights('discrim_base.h5')"
   ]
  },
  {
   "cell_type": "code",
   "execution_count": 16,
   "metadata": {},
   "outputs": [
    {
     "name": "stdout",
     "output_type": "stream",
     "text": [
      "1/1 [==============================] - 0s 32ms/step\n"
     ]
    },
    {
     "data": {
      "text/plain": [
       "(28, 28)"
      ]
     },
     "execution_count": 16,
     "metadata": {},
     "output_type": "execute_result"
    }
   ],
   "source": [
    "noise = np.random.rand(1,100)\n",
    "generated_image = generator.predict(noise, verbose=1)[0,:,:,0]\n",
    "generated_image.shape"
   ]
  },
  {
   "cell_type": "code",
   "execution_count": 17,
   "metadata": {},
   "outputs": [
    {
     "data": {
      "text/plain": [
       "(-0.5, 9.5, 9.5, -0.5)"
      ]
     },
     "execution_count": 17,
     "metadata": {},
     "output_type": "execute_result"
    },
    {
     "data": {
      "image/png": "[encoded data removed]",
      "text/plain": [
       "<Figure size 360x360 with 1 Axes>"
      ]
     },
     "metadata": {},
     "output_type": "display_data"
    }
   ],
   "source": [
    "plt.figure(figsize=(5,5))\n",
    "plt.imshow(noise.reshape(10,10), cmap='gray')\n",
    "plt.axis('off')"
   ]
  },
  {
   "cell_type": "code",
   "execution_count": 18,
   "metadata": {},
   "outputs": [
    {
     "data": {
      "text/plain": [
       "(-0.5, 27.5, 27.5, -0.5)"
      ]
     },
     "execution_count": 18,
     "metadata": {},
     "output_type": "execute_result"
    },
    {
     "data": {
      "image/png": "[encoded data removed]",
      "text/plain": [
       "<Figure size 360x360 with 1 Axes>"
      ]
     },
     "metadata": {},
     "output_type": "display_data"
    }
   ],
   "source": [
    "attempt = 'base.jpg'\n",
    "plt.figure(figsize=(5,5))\n",
    "plt.imshow(generated_image, cmap='gray')\n",
    "plt.savefig(attempt)\n",
    "plt.axis('off')"
   ]
  },
  {
   "cell_type": "code",
   "execution_count": 19,
   "metadata": {},
   "outputs": [
    {
     "name": "stdout",
     "output_type": "stream",
     "text": [
      "1/1 [==============================] - 0s 2ms/step\n",
      "1/1 [==============================] - 0s 2ms/step\n",
      "1/1 [==============================] - 0s 2ms/step\n",
      "1/1 [==============================] - 0s 2ms/step\n",
      "1/1 [==============================] - 0s 2ms/step\n",
      "1/1 [==============================] - 0s 2ms/step\n",
      "1/1 [==============================] - 0s 2ms/step\n",
      "1/1 [==============================] - 0s 996us/step\n",
      "1/1 [==============================] - 0s 997us/step\n",
      "1/1 [==============================] - 0s 965us/step\n",
      "1/1 [==============================] - 0s 2ms/step\n",
      "1/1 [==============================] - 0s 2ms/step\n",
      "1/1 [==============================] - 0s 2ms/step\n",
      "1/1 [==============================] - 0s 966us/step\n",
      "1/1 [==============================] - 0s 971us/step\n",
      "1/1 [==============================] - 0s 2ms/step\n",
      "1/1 [==============================] - 0s 2ms/step\n",
      "1/1 [==============================] - 0s 2ms/step\n",
      "1/1 [==============================] - 0s 2ms/step\n",
      "1/1 [==============================] - 0s 2ms/step\n",
      "1/1 [==============================] - 0s 2ms/step\n",
      "1/1 [==============================] - 0s 980us/step\n",
      "1/1 [==============================] - 0s 1ms/step\n",
      "1/1 [==============================] - 0s 2ms/step\n",
      "1/1 [==============================] - 0s 2ms/step\n",
      "1/1 [==============================] - 0s 2ms/step\n",
      "1/1 [==============================] - 0s 967us/step\n",
      "1/1 [==============================] - 0s 2ms/step\n",
      "1/1 [==============================] - 0s 2ms/step\n",
      "1/1 [==============================] - 0s 2ms/step\n",
      "1/1 [==============================] - 0s 2ms/step\n",
      "1/1 [==============================] - 0s 2ms/step\n",
      "1/1 [==============================] - 0s 2ms/step\n",
      "1/1 [==============================] - 0s 2ms/step\n",
      "1/1 [==============================] - 0s 2ms/step\n",
      "1/1 [==============================] - 0s 2ms/step\n",
      "1/1 [==============================] - 0s 2ms/step\n",
      "1/1 [==============================] - 0s 2ms/step\n",
      "1/1 [==============================] - 0s 2ms/step\n",
      "1/1 [==============================] - 0s 2ms/step\n",
      "1/1 [==============================] - 0s 2ms/step\n",
      "1/1 [==============================] - 0s 2ms/step\n",
      "1/1 [==============================] - 0s 2ms/step\n",
      "1/1 [==============================] - 0s 2ms/step\n",
      "1/1 [==============================] - 0s 2ms/step\n",
      "1/1 [==============================] - 0s 2ms/step\n",
      "1/1 [==============================] - 0s 2ms/step\n",
      "1/1 [==============================] - 0s 2ms/step\n",
      "1/1 [==============================] - 0s 2ms/step\n"
     ]
    },
    {
     "data": {
      "image/png": "[encoded data removed]",
      "text/plain": [
       "<Figure size 432x288 with 1 Axes>"
      ]
     },
     "metadata": {},
     "output_type": "display_data"
    }
   ],
   "source": [
    "for i in range(1,50):\n",
    "    noise = np.random.rand(1,100)\n",
    "    generated_image = generator.predict(noise, verbose=1)[0,:,:,0]\n",
    "    plt.imshow(generated_image, cmap=\"gray\")\n",
    "    plt.savefig('{}.jpg'.format(i))"
   ]
  },
  {
   "cell_type": "code",
   "execution_count": null,
   "metadata": {},
   "outputs": [],
   "source": []
  }
 ],
 "metadata": {
  "kernelspec": {
   "display_name": "Python 3",
   "language": "python",
   "name": "python3"
  },
  "language_info": {
   "codemirror_mode": {
    "name": "ipython",
    "version": 3
   },
   "file_extension": ".py",
   "mimetype": "text/x-python",
   "name": "python",
   "nbconvert_exporter": "python",
   "pygments_lexer": "ipython3",
   "version": "3.6.6"
  }
 },
 "nbformat": 4,
 "nbformat_minor": 2
}
